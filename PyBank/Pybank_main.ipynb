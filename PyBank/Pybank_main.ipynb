{
 "cells": [
  {
   "cell_type": "code",
   "execution_count": 2,
   "id": "7c4caa93",
   "metadata": {},
   "outputs": [],
   "source": [
    "#import libaries\n",
    "import os\n",
    "import csv\n",
    "import pandas as pd\n",
    "import numpy as np"
   ]
  },
  {
   "cell_type": "code",
   "execution_count": 3,
   "id": "fc7964e0",
   "metadata": {},
   "outputs": [],
   "source": [
    "pybankcsv = os.path.join('Resources', 'budget_data.csv')"
   ]
  },
  {
   "cell_type": "code",
   "execution_count": 4,
   "id": "28e5b55f",
   "metadata": {},
   "outputs": [
    {
     "name": "stdout",
     "output_type": "stream",
     "text": [
      "<_csv.reader object at 0x00000182A25C9820>\n",
      "CSV Header: ['Date', 'Profit/Losses']\n",
      "['Jan-2010', '867884']\n",
      "['Feb-2010', '984655']\n",
      "['Mar-2010', '322013']\n",
      "['Apr-2010', '-69417']\n",
      "['May-2010', '310503']\n",
      "['Jun-2010', '522857']\n",
      "['Jul-2010', '1033096']\n",
      "['Aug-2010', '604885']\n",
      "['Sep-2010', '-216386']\n",
      "['Oct-2010', '477532']\n",
      "['Nov-2010', '893810']\n",
      "['Dec-2010', '-80353']\n",
      "['Jan-2011', '779806']\n",
      "['Feb-2011', '-335203']\n",
      "['Mar-2011', '697845']\n",
      "['Apr-2011', '793163']\n",
      "['May-2011', '485070']\n",
      "['Jun-2011', '584122']\n",
      "['Jul-2011', '62729']\n",
      "['Aug-2011', '668179']\n",
      "['Sep-2011', '899906']\n",
      "['Oct-2011', '834719']\n",
      "['Nov-2011', '132003']\n",
      "['Dec-2011', '309978']\n",
      "['Jan-2012', '-755566']\n",
      "['Feb-2012', '1170593']\n",
      "['Mar-2012', '252788']\n",
      "['Apr-2012', '1151518']\n",
      "['May-2012', '817256']\n",
      "['Jun-2012', '570757']\n",
      "['Jul-2012', '506702']\n",
      "['Aug-2012', '-1022534']\n",
      "['Sep-2012', '475062']\n",
      "['Oct-2012', '779976']\n",
      "['Nov-2012', '144175']\n",
      "['Dec-2012', '542494']\n",
      "['Jan-2013', '359333']\n",
      "['Feb-2013', '321469']\n",
      "['Mar-2013', '67780']\n",
      "['Apr-2013', '471435']\n",
      "['May-2013', '565603']\n",
      "['Jun-2013', '872480']\n",
      "['Jul-2013', '789480']\n",
      "['Aug-2013', '999942']\n",
      "['Sep-2013', '-1196225']\n",
      "['Oct-2013', '268997']\n",
      "['Nov-2013', '-687986']\n",
      "['Dec-2013', '1150461']\n",
      "['Jan-2014', '682458']\n",
      "['Feb-2014', '617856']\n",
      "['Mar-2014', '824098']\n",
      "['Apr-2014', '581943']\n",
      "['May-2014', '132864']\n",
      "['Jun-2014', '448062']\n",
      "['Jul-2014', '689161']\n",
      "['Aug-2014', '800701']\n",
      "['Sep-2014', '1166643']\n",
      "['Oct-2014', '947333']\n",
      "['Nov-2014', '578668']\n",
      "['Dec-2014', '988505']\n",
      "['Jan-2015', '1139715']\n",
      "['Feb-2015', '1029471']\n",
      "['Mar-2015', '687533']\n",
      "['Apr-2015', '-524626']\n",
      "['May-2015', '158620']\n",
      "['Jun-2015', '87795']\n",
      "['Jul-2015', '423389']\n",
      "['Aug-2015', '840723']\n",
      "['Sep-2015', '568529']\n",
      "['Oct-2015', '332067']\n",
      "['Nov-2015', '989499']\n",
      "['Dec-2015', '778237']\n",
      "['Jan-2016', '650000']\n",
      "['Feb-2016', '-1100387']\n",
      "['Mar-2016', '-174946']\n",
      "['Apr-2016', '757143']\n",
      "['May-2016', '445709']\n",
      "['Jun-2016', '712961']\n",
      "['Jul-2016', '-1163797']\n",
      "['Aug-2016', '569899']\n",
      "['Sep-2016', '768450']\n",
      "['Oct-2016', '102685']\n",
      "['Nov-2016', '795914']\n",
      "['Dec-2016', '60988']\n",
      "['Jan-2017', '138230']\n",
      "['Feb-2017', '671099']\n"
     ]
    }
   ],
   "source": [
    "with open(pybankcsv) as csvfile:\n",
    "\n",
    "    # CSV reader specifies delimiter and variable that holds contents\n",
    "    pybank_csvreader = csv.reader(csvfile, delimiter=',')\n",
    "\n",
    "    print(pybank_csvreader)\n",
    "\n",
    "    # Read the header row first (skip this step if there is now header)\n",
    "    csv_header = next(pybank_csvreader)\n",
    "    print(f\"CSV Header: {csv_header}\")\n",
    "\n",
    "    # Read each row of data after the header\n",
    "    for row in pybank_csvreader:\n",
    "        print(row)\n",
    "       "
   ]
  },
  {
   "cell_type": "code",
   "execution_count": 5,
   "id": "1128bb05",
   "metadata": {},
   "outputs": [
    {
     "data": {
      "text/html": [
       "<div>\n",
       "<style scoped>\n",
       "    .dataframe tbody tr th:only-of-type {\n",
       "        vertical-align: middle;\n",
       "    }\n",
       "\n",
       "    .dataframe tbody tr th {\n",
       "        vertical-align: top;\n",
       "    }\n",
       "\n",
       "    .dataframe thead th {\n",
       "        text-align: right;\n",
       "    }\n",
       "</style>\n",
       "<table border=\"1\" class=\"dataframe\">\n",
       "  <thead>\n",
       "    <tr style=\"text-align: right;\">\n",
       "      <th></th>\n",
       "      <th>Date</th>\n",
       "      <th>Profit/Losses</th>\n",
       "    </tr>\n",
       "  </thead>\n",
       "  <tbody>\n",
       "    <tr>\n",
       "      <th>0</th>\n",
       "      <td>Jan-2010</td>\n",
       "      <td>867884</td>\n",
       "    </tr>\n",
       "    <tr>\n",
       "      <th>1</th>\n",
       "      <td>Feb-2010</td>\n",
       "      <td>984655</td>\n",
       "    </tr>\n",
       "    <tr>\n",
       "      <th>2</th>\n",
       "      <td>Mar-2010</td>\n",
       "      <td>322013</td>\n",
       "    </tr>\n",
       "    <tr>\n",
       "      <th>3</th>\n",
       "      <td>Apr-2010</td>\n",
       "      <td>-69417</td>\n",
       "    </tr>\n",
       "    <tr>\n",
       "      <th>4</th>\n",
       "      <td>May-2010</td>\n",
       "      <td>310503</td>\n",
       "    </tr>\n",
       "    <tr>\n",
       "      <th>...</th>\n",
       "      <td>...</td>\n",
       "      <td>...</td>\n",
       "    </tr>\n",
       "    <tr>\n",
       "      <th>81</th>\n",
       "      <td>Oct-2016</td>\n",
       "      <td>102685</td>\n",
       "    </tr>\n",
       "    <tr>\n",
       "      <th>82</th>\n",
       "      <td>Nov-2016</td>\n",
       "      <td>795914</td>\n",
       "    </tr>\n",
       "    <tr>\n",
       "      <th>83</th>\n",
       "      <td>Dec-2016</td>\n",
       "      <td>60988</td>\n",
       "    </tr>\n",
       "    <tr>\n",
       "      <th>84</th>\n",
       "      <td>Jan-2017</td>\n",
       "      <td>138230</td>\n",
       "    </tr>\n",
       "    <tr>\n",
       "      <th>85</th>\n",
       "      <td>Feb-2017</td>\n",
       "      <td>671099</td>\n",
       "    </tr>\n",
       "  </tbody>\n",
       "</table>\n",
       "<p>86 rows × 2 columns</p>\n",
       "</div>"
      ],
      "text/plain": [
       "        Date  Profit/Losses\n",
       "0   Jan-2010         867884\n",
       "1   Feb-2010         984655\n",
       "2   Mar-2010         322013\n",
       "3   Apr-2010         -69417\n",
       "4   May-2010         310503\n",
       "..       ...            ...\n",
       "81  Oct-2016         102685\n",
       "82  Nov-2016         795914\n",
       "83  Dec-2016          60988\n",
       "84  Jan-2017         138230\n",
       "85  Feb-2017         671099\n",
       "\n",
       "[86 rows x 2 columns]"
      ]
     },
     "execution_count": 5,
     "metadata": {},
     "output_type": "execute_result"
    }
   ],
   "source": [
    "\n",
    "#creating dataframes for individual columns\n",
    "\n",
    "pybank = \"Resources/budget_data.csv\"\n",
    "pybank_read = pd.read_csv(pybank)\n",
    "pybank_df=pd.DataFrame(pybank_read)\n",
    "pybank_df\n",
    "\n"
   ]
  },
  {
   "cell_type": "code",
   "execution_count": 6,
   "id": "f3439cc6",
   "metadata": {},
   "outputs": [
    {
     "data": {
      "text/html": [
       "<div>\n",
       "<style scoped>\n",
       "    .dataframe tbody tr th:only-of-type {\n",
       "        vertical-align: middle;\n",
       "    }\n",
       "\n",
       "    .dataframe tbody tr th {\n",
       "        vertical-align: top;\n",
       "    }\n",
       "\n",
       "    .dataframe thead th {\n",
       "        text-align: right;\n",
       "    }\n",
       "</style>\n",
       "<table border=\"1\" class=\"dataframe\">\n",
       "  <thead>\n",
       "    <tr style=\"text-align: right;\">\n",
       "      <th></th>\n",
       "      <th>Profit/Losses</th>\n",
       "    </tr>\n",
       "  </thead>\n",
       "  <tbody>\n",
       "    <tr>\n",
       "      <th>0</th>\n",
       "      <td>867884</td>\n",
       "    </tr>\n",
       "    <tr>\n",
       "      <th>1</th>\n",
       "      <td>984655</td>\n",
       "    </tr>\n",
       "    <tr>\n",
       "      <th>2</th>\n",
       "      <td>322013</td>\n",
       "    </tr>\n",
       "    <tr>\n",
       "      <th>3</th>\n",
       "      <td>-69417</td>\n",
       "    </tr>\n",
       "    <tr>\n",
       "      <th>4</th>\n",
       "      <td>310503</td>\n",
       "    </tr>\n",
       "    <tr>\n",
       "      <th>...</th>\n",
       "      <td>...</td>\n",
       "    </tr>\n",
       "    <tr>\n",
       "      <th>81</th>\n",
       "      <td>102685</td>\n",
       "    </tr>\n",
       "    <tr>\n",
       "      <th>82</th>\n",
       "      <td>795914</td>\n",
       "    </tr>\n",
       "    <tr>\n",
       "      <th>83</th>\n",
       "      <td>60988</td>\n",
       "    </tr>\n",
       "    <tr>\n",
       "      <th>84</th>\n",
       "      <td>138230</td>\n",
       "    </tr>\n",
       "    <tr>\n",
       "      <th>85</th>\n",
       "      <td>671099</td>\n",
       "    </tr>\n",
       "  </tbody>\n",
       "</table>\n",
       "<p>86 rows × 1 columns</p>\n",
       "</div>"
      ],
      "text/plain": [
       "    Profit/Losses\n",
       "0          867884\n",
       "1          984655\n",
       "2          322013\n",
       "3          -69417\n",
       "4          310503\n",
       "..            ...\n",
       "81         102685\n",
       "82         795914\n",
       "83          60988\n",
       "84         138230\n",
       "85         671099\n",
       "\n",
       "[86 rows x 1 columns]"
      ]
     },
     "execution_count": 6,
     "metadata": {},
     "output_type": "execute_result"
    }
   ],
   "source": [
    "profit = pybank_df[\"Profit/Losses\"]\n",
    "profit_df = pd.DataFrame(profit)\n",
    "profit_df"
   ]
  },
  {
   "cell_type": "code",
   "execution_count": 7,
   "id": "6cdcc104",
   "metadata": {},
   "outputs": [
    {
     "data": {
      "text/plain": [
       "0     Jan-2010\n",
       "1     Feb-2010\n",
       "2     Mar-2010\n",
       "3     Apr-2010\n",
       "4     May-2010\n",
       "        ...   \n",
       "81    Oct-2016\n",
       "82    Nov-2016\n",
       "83    Dec-2016\n",
       "84    Jan-2017\n",
       "85    Feb-2017\n",
       "Name: Date, Length: 86, dtype: object"
      ]
     },
     "execution_count": 7,
     "metadata": {},
     "output_type": "execute_result"
    }
   ],
   "source": [
    "date = pybank_df[\"Date\"]\n",
    "date_df = pd.DataFrame(date)\n",
    "date\n",
    "#why is this not in the pd df format?"
   ]
  },
  {
   "cell_type": "code",
   "execution_count": 17,
   "id": "7b87eb24",
   "metadata": {},
   "outputs": [
    {
     "name": "stdout",
     "output_type": "stream",
     "text": [
      "Total Moths : 86\n"
     ]
    }
   ],
   "source": [
    "#The total number of months included in the dataset\n",
    "total = 0\n",
    " \n",
    "# list to hold unique dates\n",
    "unique_dates = []\n",
    "  \n",
    "# loop for counting the unique\n",
    "for i in range(0, len(pybank_df['Date'])):\n",
    "    \n",
    "    if pybank_df['Date'][i] not in unique_dates: \n",
    "        \n",
    "        unique_dates.append(pybank_df['Date'][i])\n",
    "          \n",
    "        total += 1\n",
    "  \n",
    "q1 = print(\"Total Moths :\", total)\n",
    "q1"
   ]
  },
  {
   "cell_type": "code",
   "execution_count": 18,
   "id": "525bd53b",
   "metadata": {},
   "outputs": [
    {
     "name": "stdout",
     "output_type": "stream",
     "text": [
      "Total: $38382578\n"
     ]
    }
   ],
   "source": [
    "#The net total amount of \"Profit/Losses\" over the entire period\n",
    "PL = pybank_df['Profit/Losses']\n",
    "total_PL = PL.sum()\n",
    "q2 = print(\"Total: $\"+ str(total_PL))\n",
    "q2"
   ]
  },
  {
   "cell_type": "code",
   "execution_count": 19,
   "id": "642a4178",
   "metadata": {},
   "outputs": [
    {
     "name": "stdout",
     "output_type": "stream",
     "text": [
      "The average change is $-2315.12\n"
     ]
    }
   ],
   "source": [
    "#Calculate the changes in \"Profit/Losses\" over the entire period, then find the average of those changes\n",
    "#What does this even mean? haha mean\n",
    "avg_container = []\n",
    "avg_list = list(PL)\n",
    "\n",
    "# loop for calc for avg, \n",
    "\n",
    "for i in range(0, len(PL)-1):\n",
    "    current_row = avg_list[i]\n",
    "    next_row = avg_list[i+1]\n",
    "    avg_container.append(next_row-current_row)\n",
    "    #mean_change= avg_container.mean()\n",
    "    mean_change = np.mean(avg_container)\n",
    "    dollars = round(mean_change,2)\n",
    "    \n",
    "q3 = print(f\"The average change is ${dollars}\")\n",
    "q3"
   ]
  },
  {
   "cell_type": "code",
   "execution_count": 20,
   "id": "9b426e95",
   "metadata": {},
   "outputs": [
    {
     "name": "stdout",
     "output_type": "stream",
     "text": [
      "The Greatest Profit increase happens on Jan-2012 and is $1926159\n"
     ]
    }
   ],
   "source": [
    "#The greatest increase in profits (date and amount) over the entire period\n",
    "greatestIncProf = (pybank_df[\"Profit/Losses\"].max())\n",
    "P_list = []\n",
    "\n",
    "PL_List = list(PL)\n",
    "\n",
    "\n",
    "\n",
    "for i in range(0, len(PL)-1):\n",
    "    current_row = PL_List[i]\n",
    "    next_row = PL_List[i+1]\n",
    "    P_list.append(next_row-current_row)\n",
    "    maxP=max(P_list)\n",
    "    maxMonth = date[P_list.index(max(P_list))] \n",
    "    minL = min(P_list)\n",
    "    minMonth = date[P_list.index(min(P_list))] \n",
    "    \n",
    "    \n",
    "q4 = print(f\"The Greatest Profit increase happens on {maxMonth} and is ${maxP}\")\n",
    "q4"
   ]
  },
  {
   "cell_type": "code",
   "execution_count": 21,
   "id": "53b6ab05",
   "metadata": {},
   "outputs": [
    {
     "name": "stdout",
     "output_type": "stream",
     "text": [
      "The Greatest Profit decrease happens on Aug-2013 and is $-2196167\n"
     ]
    }
   ],
   "source": [
    "#The greatest decrease in profits (date and amount) over the entire period\n",
    "greatDecProf = (pybank_df[\"Profit/Losses\"].min())\n",
    "\n",
    "q5 = print(f\"The Greatest Profit decrease happens on {minMonth} and is ${minL}\")"
   ]
  },
  {
   "cell_type": "code",
   "execution_count": 22,
   "id": "4987f175",
   "metadata": {},
   "outputs": [
    {
     "name": "stdout",
     "output_type": "stream",
     "text": [
      "Financial Analysis\n",
      "-----------------------------------------------------------------\n",
      "Total Moths : 86\n",
      "Total: $38382578\n",
      "The average change is $-2315.12\n",
      "The Greatest Profit increase happens on Jan-2012 and is $1926159\n",
      "The Greatest Profit decrease happens on Aug-2013 and is $-2196167\n",
      "-----------------------------------------------------------------\n"
     ]
    }
   ],
   "source": [
    "#final summary\n",
    "title = print(\"Financial Analysis\")\n",
    "title\n",
    "pbreak = print(\"-----------------------------------------------------------------\")\n",
    "pbreak\n",
    "print(\"Total Moths :\", total)\n",
    "print(\"Total: $\"+ str(total_PL))\n",
    "print(f\"The average change is ${dollars}\")\n",
    "print(f\"The Greatest Profit increase happens on {maxMonth} and is ${maxP}\")\n",
    "print(f\"The Greatest Profit decrease happens on {minMonth} and is ${minL}\")\n",
    "print(\"-----------------------------------------------------------------\")\n",
    "#goal analysis = [title, pbreak, q1,q2,q3,q4,q5,pbreak]\n",
    "analysis=[]"
   ]
  },
  {
   "cell_type": "code",
   "execution_count": 32,
   "id": "fc4a4bf7",
   "metadata": {},
   "outputs": [],
   "source": [
    "#append pybank_analysis\n",
    "open(\"analysis/pybank_analysis.txt\", \"w\")\n",
    "\n",
    "print(\"Financial Analysis\", file=open(\"analysis/pybank_analysis.txt\",\"a\"))\n",
    "print(\"\\n\", file=open(\"analysis/pybank_analysis.txt\",\"a\"))\n",
    "print(\"-----------------------------------------------------------------\", file=open(\"analysis/pybank_analysis.txt\",\"a\"))\n",
    "print(\"\\n\", file=open(\"analysis/pybank_analysis.txt\",\"a\"))\n",
    "print(\"Total Moths :\"+ str(total), file=open(\"analysis/pybank_analysis.txt\",\"a\"))\n",
    "print(\"\\n\", file=open(\"analysis/pybank_analysis.txt\",\"a\"))\n",
    "print(\"Total: $\"+ str(total_PL), file=open(\"analysis/pybank_analysis.txt\",\"a\"))\n",
    "print(\"\\n\", file=open(\"analysis/pybank_analysis.txt\",\"a\"))\n",
    "print(f\"The average change is $\"+ str(dollars), file=open(\"analysis/pybank_analysis.txt\",\"a\"))\n",
    "print(\"\\n\", file=open(\"analysis/pybank_analysis.txt\",\"a\"))\n",
    "print(f\"The Greatest Profit increase happens on {maxMonth} and is ${maxP}\", file=open(\"analysis/pybank_analysis.txt\",\"a\"))\n",
    "print(\"\\n\", file=open(\"analysis/pybank_analysis.txt\",\"a\"))\n",
    "print(f\"The Greatest Profit decrease happens on {minMonth} and is ${minL}\", file=open(\"analysis/pybank_analysis.txt\",\"a\"))\n",
    "print(\"\\n\", file=open(\"analysis/pybank_analysis.txt\",\"a\"))\n",
    "print(\"-----------------------------------------------------------------\", file=open(\"analysis/pybank_analysis.txt\",\"a\"))\n",
    "print(\"\\n\", file=open(\"analysis/pybank_analysis.txt\",\"a\"))\n"
   ]
  },
  {
   "cell_type": "code",
   "execution_count": null,
   "id": "e657a2cc",
   "metadata": {},
   "outputs": [],
   "source": []
  },
  {
   "cell_type": "code",
   "execution_count": null,
   "id": "8af5bc24",
   "metadata": {},
   "outputs": [],
   "source": []
  }
 ],
 "metadata": {
  "kernelspec": {
   "display_name": "Python 3",
   "language": "python",
   "name": "python3"
  },
  "language_info": {
   "codemirror_mode": {
    "name": "ipython",
    "version": 3
   },
   "file_extension": ".py",
   "mimetype": "text/x-python",
   "name": "python",
   "nbconvert_exporter": "python",
   "pygments_lexer": "ipython3",
   "version": "3.8.8"
  }
 },
 "nbformat": 4,
 "nbformat_minor": 5
}
